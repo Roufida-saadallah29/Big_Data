{
  "nbformat": 4,
  "nbformat_minor": 0,
  "metadata": {
    "colab": {
      "provenance": []
    },
    "kernelspec": {
      "name": "python3",
      "display_name": "Python 3"
    },
    "language_info": {
      "name": "python"
    }
  },
  "cells": [
    {
      "cell_type": "code",
      "execution_count": null,
      "metadata": {
        "colab": {
          "base_uri": "https://localhost:8080/"
        },
        "id": "vVSOMZ4jBixs",
        "outputId": "92470542-5049-4d88-cd9e-deadb644131f"
      },
      "outputs": [
        {
          "output_type": "stream",
          "name": "stdout",
          "text": [
            "Collecting pyspark\n",
            "  Downloading pyspark-3.5.0.tar.gz (316.9 MB)\n",
            "\u001b[2K     \u001b[90m━━━━━━━━━━━━━━━━━━━━━━━━━━━━━━━━━━━━━━━━\u001b[0m \u001b[32m316.9/316.9 MB\u001b[0m \u001b[31m3.6 MB/s\u001b[0m eta \u001b[36m0:00:00\u001b[0m\n",
            "\u001b[?25h  Preparing metadata (setup.py) ... \u001b[?25l\u001b[?25hdone\n",
            "Requirement already satisfied: py4j==0.10.9.7 in /usr/local/lib/python3.10/dist-packages (from pyspark) (0.10.9.7)\n",
            "Building wheels for collected packages: pyspark\n",
            "  Building wheel for pyspark (setup.py) ... \u001b[?25l\u001b[?25hdone\n",
            "  Created wheel for pyspark: filename=pyspark-3.5.0-py2.py3-none-any.whl size=317425344 sha256=6365f02a7674a3f8c3429d64c7b5e56affd158b3be85b70b139948db1fc13c9f\n",
            "  Stored in directory: /root/.cache/pip/wheels/41/4e/10/c2cf2467f71c678cfc8a6b9ac9241e5e44a01940da8fbb17fc\n",
            "Successfully built pyspark\n",
            "Installing collected packages: pyspark\n",
            "Successfully installed pyspark-3.5.0\n",
            "Collecting graphframes\n",
            "  Downloading graphframes-0.6-py2.py3-none-any.whl (18 kB)\n",
            "Requirement already satisfied: numpy in /usr/local/lib/python3.10/dist-packages (from graphframes) (1.23.5)\n",
            "Collecting nose (from graphframes)\n",
            "  Downloading nose-1.3.7-py3-none-any.whl (154 kB)\n",
            "\u001b[2K     \u001b[90m━━━━━━━━━━━━━━━━━━━━━━━━━━━━━━━━━━━━━━━━\u001b[0m \u001b[32m154.7/154.7 kB\u001b[0m \u001b[31m3.4 MB/s\u001b[0m eta \u001b[36m0:00:00\u001b[0m\n",
            "\u001b[?25hInstalling collected packages: nose, graphframes\n",
            "Successfully installed graphframes-0.6 nose-1.3.7\n"
          ]
        }
      ],
      "source": [
        "!pip install pyspark\n",
        "!pip install graphframes\n"
      ]
    },
    {
      "cell_type": "code",
      "source": [
        "from pyspark.sql import SparkSession\n",
        "\n",
        "spark = SparkSession.builder.config('spark.jars.packages', 'graphframes:graphframes:0.8.3-spark3.5-s_2.12').appName(\"tp5\").getOrCreate()\n"
      ],
      "metadata": {
        "id": "C8F464yEB2UF"
      },
      "execution_count": null,
      "outputs": []
    },
    {
      "cell_type": "code",
      "source": [
        "bikeStations = spark.read.option(\"header\",\"true\").csv(\"/content/station_data.csv\")\n",
        "tripData = spark.read.option(\"header\",\"true\").csv(\"/content/trip_data.csv\")"
      ],
      "metadata": {
        "id": "zI2X-4dmCJPF"
      },
      "execution_count": null,
      "outputs": []
    },
    {
      "cell_type": "code",
      "source": [
        "tripData"
      ],
      "metadata": {
        "colab": {
          "base_uri": "https://localhost:8080/"
        },
        "id": "nMEIZgcZ2zaB",
        "outputId": "154d7516-165b-433e-fc2f-f5512ca3646d"
      },
      "execution_count": null,
      "outputs": [
        {
          "output_type": "execute_result",
          "data": {
            "text/plain": [
              "DataFrame[Trip ID: string, Duration: string, Start Date: string, Start Station: string, Start Terminal: string, End Date: string, End Station: string, End Terminal: string, Bike #: string, Subscriber Type: string, Zip Code: string]"
            ]
          },
          "metadata": {},
          "execution_count": 6
        }
      ]
    },
    {
      "cell_type": "code",
      "source": [
        "from pyspark.sql.functions import col\n",
        "\n",
        "tripData = tripData.withColumn(\"Duration\", col(\"Duration\").cast(\"int\"))"
      ],
      "metadata": {
        "id": "BKlgh5SPCPO9"
      },
      "execution_count": null,
      "outputs": []
    },
    {
      "cell_type": "code",
      "source": [
        "tripData"
      ],
      "metadata": {
        "colab": {
          "base_uri": "https://localhost:8080/"
        },
        "id": "x0ZPvV7b3Kkx",
        "outputId": "6ef68db2-12b5-41bb-94b0-9c02d1e3e61c"
      },
      "execution_count": null,
      "outputs": [
        {
          "output_type": "execute_result",
          "data": {
            "text/plain": [
              "DataFrame[Trip ID: string, Duration: int, Start Date: string, Start Station: string, Start Terminal: string, End Date: string, End Station: string, End Terminal: string, Bike #: string, Subscriber Type: string, Zip Code: string]"
            ]
          },
          "metadata": {},
          "execution_count": 9
        }
      ]
    },
    {
      "cell_type": "code",
      "source": [
        "stationVertices = bikeStations.withColumnRenamed(\"name\", \"id\").distinct()\n",
        "tripEdges = tripData.withColumnRenamed(\"Start Station\", \"src\").withColumnRenamed(\"End Station\", \"dst\")"
      ],
      "metadata": {
        "id": "zZq_gQ1m3cMU"
      },
      "execution_count": null,
      "outputs": []
    },
    {
      "cell_type": "code",
      "source": [
        "from graphframes import GraphFrame\n",
        "\n",
        "stationGraph = GraphFrame(stationVertices, tripEdges)"
      ],
      "metadata": {
        "id": "oPJsosr5CRWk"
      },
      "execution_count": null,
      "outputs": []
    },
    {
      "cell_type": "code",
      "source": [
        "print(\"Total Number of Stations: \" + str(stationGraph.vertices.count()))\n",
        "print(\"Total Number of Trips in Graph: \" + str(stationGraph.edges.count()))\n",
        "print(\"Total Number of Trips in Original Data: \" + str(tripData.count()))"
      ],
      "metadata": {
        "colab": {
          "base_uri": "https://localhost:8080/"
        },
        "id": "oCMbgwAoCtQ9",
        "outputId": "f0c953ea-2a39-4435-8e43-66a6ce4747b7"
      },
      "execution_count": null,
      "outputs": [
        {
          "output_type": "stream",
          "name": "stdout",
          "text": [
            "Total Number of Stations: 70\n",
            "Total Number of Trips in Graph: 99\n",
            "Total Number of Trips in Original Data: 99\n"
          ]
        }
      ]
    },
    {
      "cell_type": "code",
      "source": [
        "# 5 / Nombre de voyages entre chaque source et destination triés par ordre décroissant\n",
        "trips_count = stationGraph.edges.groupBy(\"src\", \"dst\").count().orderBy(\"count\", ascending=False)\n",
        "trips_count.show()"
      ],
      "metadata": {
        "colab": {
          "base_uri": "https://localhost:8080/"
        },
        "id": "jZfHjkm1CvRM",
        "outputId": "6ce1bf33-7f53-4bb1-a8f8-ee6264651c31"
      },
      "execution_count": null,
      "outputs": [
        {
          "output_type": "stream",
          "name": "stdout",
          "text": [
            "+--------------------+--------------------+-----+\n",
            "|                 src|                 dst|count|\n",
            "+--------------------+--------------------+-----+\n",
            "|San Francisco Cal...|     Townsend at 7th|    4|\n",
            "|       5th at Howard|San Francisco Cal...|    3|\n",
            "|San Francisco Cal...|  Powell Street BART|    2|\n",
            "|     2nd at Townsend|   Market at Sansome|    2|\n",
            "|     Spear at Folsom|     2nd at Townsend|    2|\n",
            "|   Market at Sansome|Broadway St at Ba...|    2|\n",
            "|    Davis at Jackson|Embarcadero at Sa...|    2|\n",
            "|San Francisco Cal...|   2nd at South Park|    2|\n",
            "|   Steuart at Market|San Francisco Cal...|    2|\n",
            "|       Market at 4th|San Francisco Cal...|    2|\n",
            "|Embarcadero at Fo...|Embarcadero at Sa...|    2|\n",
            "|Mountain View Cal...|Rengstorff Avenue...|    1|\n",
            "|    Davis at Jackson|Temporary Transba...|    1|\n",
            "|       5th at Howard|     Townsend at 7th|    1|\n",
            "|   Market at Sansome|South Van Ness at...|    1|\n",
            "|     Beale at Market|Temporary Transba...|    1|\n",
            "|     2nd at Townsend|Powell at Post (U...|    1|\n",
            "|   Market at Sansome|     Clay at Battery|    1|\n",
            "|   2nd at South Park|       Howard at 2nd|    1|\n",
            "|Embarcadero at Sa...|   Steuart at Market|    1|\n",
            "+--------------------+--------------------+-----+\n",
            "only showing top 20 rows\n",
            "\n"
          ]
        }
      ]
    },
    {
      "cell_type": "code",
      "source": [
        "# 6) Nombre de voyages commençant ou terminant à 'Townsend at 7th' triés par ordre décroissant\n",
        "townsend_trips = stationGraph.edges.filter(\"src = 'Townsend at 7th' or dst = 'Townsend at 7th'\").groupBy(\"src\", \"dst\").count().orderBy(\"count\", ascending=False)\n",
        "townsend_trips.show()"
      ],
      "metadata": {
        "colab": {
          "base_uri": "https://localhost:8080/"
        },
        "id": "oiqDoxUeDlzx",
        "outputId": "9fe2da96-4179-49b6-c489-9e5e495552e7"
      },
      "execution_count": null,
      "outputs": [
        {
          "output_type": "stream",
          "name": "stdout",
          "text": [
            "+--------------------+--------------------+-----+\n",
            "|                 src|                 dst|count|\n",
            "+--------------------+--------------------+-----+\n",
            "|San Francisco Cal...|     Townsend at 7th|    4|\n",
            "|       5th at Howard|     Townsend at 7th|    1|\n",
            "|     Townsend at 7th|     Spear at Folsom|    1|\n",
            "|     Townsend at 7th|Harry Bridges Pla...|    1|\n",
            "|     Spear at Folsom|     Townsend at 7th|    1|\n",
            "|       Howard at 2nd|     Townsend at 7th|    1|\n",
            "+--------------------+--------------------+-----+\n",
            "\n"
          ]
        }
      ]
    },
    {
      "cell_type": "code",
      "source": [
        "# 7) Sommets qui n'ont jamais été une destination d'un voyage commençant à partir de 'Spear at Folsom'\n",
        "SpearFolsomDestinations = stationGraph.edges \\\n",
        "    .where(\"src = 'Spear at Folsom'\") \\\n",
        "    .select(\"dst\") \\\n",
        "    .distinct()\n",
        "\n",
        "otherStations = stationGraph \\\n",
        "    .edges \\\n",
        "    .select(\"dst\") \\\n",
        "    .distinct() \\\n",
        "    .subtract(SpearFolsomDestinations)\n",
        "\n",
        "# Affichage des résultats\n",
        "otherStations.show(1000, False)"
      ],
      "metadata": {
        "colab": {
          "base_uri": "https://localhost:8080/"
        },
        "id": "3A9vvG_wDtv1",
        "outputId": "943d6870-2664-4d5d-c0ed-8575fc7ac917"
      },
      "execution_count": null,
      "outputs": [
        {
          "output_type": "stream",
          "name": "stdout",
          "text": [
            "+---------------------------------------------+\n",
            "|dst                                          |\n",
            "+---------------------------------------------+\n",
            "|Powell at Post (Union Square)                |\n",
            "|Market at Sansome                            |\n",
            "|Spear at Folsom                              |\n",
            "|San Salvador at 1st                          |\n",
            "|Rengstorff Avenue / California Street        |\n",
            "|Civic Center BART (7th at Market)            |\n",
            "|Mountain View City Hall                      |\n",
            "|Market at 4th                                |\n",
            "|Temporary Transbay Terminal (Howard at Beale)|\n",
            "|Steuart at Market                            |\n",
            "|San Francisco City Hall                      |\n",
            "|South Van Ness at Market                     |\n",
            "|Embarcadero at Bryant                        |\n",
            "|Mountain View Caltrain Station               |\n",
            "|Powell Street BART                           |\n",
            "|Clay at Battery                              |\n",
            "|Market at 10th                               |\n",
            "|Broadway St at Battery St                    |\n",
            "|Beale at Market                              |\n",
            "|5th at Howard                                |\n",
            "|Grant Avenue at Columbus Avenue              |\n",
            "|Harry Bridges Plaza (Ferry Building)         |\n",
            "|Mechanics Plaza (Market at Battery)          |\n",
            "|Embarcadero at Sansome                       |\n",
            "|Castro Street and El Camino Real             |\n",
            "|Howard at 2nd                                |\n",
            "|2nd at South Park                            |\n",
            "|Cowper at University                         |\n",
            "|San Francisco Caltrain (Townsend at 4th)     |\n",
            "+---------------------------------------------+\n",
            "\n"
          ]
        }
      ]
    },
    {
      "cell_type": "code",
      "source": [
        "#8 -  Retourner la station qui a le nombre maximum de voyages entrants.\n",
        "\n",
        "from pyspark.sql.functions import desc\n",
        "\n",
        "stationGraph.inDegrees.orderBy(desc(\"inDegree\")).limit(1)\\\n",
        ".show(1, False)"
      ],
      "metadata": {
        "colab": {
          "base_uri": "https://localhost:8080/"
        },
        "id": "a8atfM9h4fQJ",
        "outputId": "5990b342-f4cc-4756-aae2-4ebe1ddc064e"
      },
      "execution_count": null,
      "outputs": [
        {
          "output_type": "stream",
          "name": "stdout",
          "text": [
            "+---------------------------------------+--------+\n",
            "|id                                     |inDegree|\n",
            "+---------------------------------------+--------+\n",
            "|San Francisco Caltrain 2 (330 Townsend)|9       |\n",
            "+---------------------------------------+--------+\n",
            "\n"
          ]
        }
      ]
    },
    {
      "cell_type": "code",
      "source": [
        "# 9- Retourner le voyage qui a la plus grande durée.\n",
        "stationGraph.edges.orderBy(desc(\"Duration\")).limit(1).show()"
      ],
      "metadata": {
        "colab": {
          "base_uri": "https://localhost:8080/"
        },
        "id": "7ewJrRdE4xiZ",
        "outputId": "5467c03c-c052-4fe3-b304-377057accac5"
      },
      "execution_count": null,
      "outputs": [
        {
          "output_type": "stream",
          "name": "stdout",
          "text": [
            "+-------+--------+---------------+--------------------+--------------+---------------+--------------------+------------+------+---------------+--------+\n",
            "|Trip ID|Duration|     Start Date|                 src|Start Terminal|       End Date|                 dst|End Terminal|Bike #|Subscriber Type|Zip Code|\n",
            "+-------+--------+---------------+--------------------+--------------+---------------+--------------------+------------+------+---------------+--------+\n",
            "| 913386|    1808|8/31/2015 20:23|Embarcadero at Br...|            54|8/31/2015 20:53|Harry Bridges Pla...|          50|   524|     Subscriber|   94105|\n",
            "+-------+--------+---------------+--------------------+--------------+---------------+--------------------+------------+------+---------------+--------+\n",
            "\n"
          ]
        }
      ]
    },
    {
      "cell_type": "code",
      "source": [
        "# 10 - Créer un sous-graphe qui ne contient que les voyages qui se commencent ou se terminent à ‘Townsend at 7th’.\n",
        "\n",
        "townAnd7thEdges = stationGraph.edges.where(\"src = 'Townsend at 7th' OR dst = 'Townsend at 7th'\")\n",
        "\n",
        "subgraph = GraphFrame(stationGraph.vertices, townAnd7thEdges)\n"
      ],
      "metadata": {
        "id": "G_SpJufS44QZ"
      },
      "execution_count": null,
      "outputs": []
    },
    {
      "cell_type": "markdown",
      "source": [],
      "metadata": {
        "id": "uavqP7SMCWmN"
      }
    },
    {
      "cell_type": "code",
      "source": [
        "subgraph.edges.show()\n",
        "subgraph.vertices.show()"
      ],
      "metadata": {
        "colab": {
          "base_uri": "https://localhost:8080/"
        },
        "id": "NJ4KDHpy5HuI",
        "outputId": "1dc5094b-e24a-4406-c248-f8acb4bbf488"
      },
      "execution_count": null,
      "outputs": [
        {
          "output_type": "stream",
          "name": "stdout",
          "text": [
            "+-------+--------+---------------+--------------------+--------------+---------------+--------------------+------------+------+---------------+--------+\n",
            "|Trip ID|Duration|     Start Date|                 src|Start Terminal|       End Date|                 dst|End Terminal|Bike #|Subscriber Type|Zip Code|\n",
            "+-------+--------+---------------+--------------------+--------------+---------------+--------------------+------------+------+---------------+--------+\n",
            "| 913434|     283|8/31/2015 21:19|San Francisco Cal...|            69|8/31/2015 21:24|     Townsend at 7th|          65|   521|     Subscriber|   94107|\n",
            "| 913404|     273|8/31/2015 20:39|San Francisco Cal...|            69|8/31/2015 20:44|     Townsend at 7th|          65|   287|     Subscriber|   94107|\n",
            "| 913382|     645|8/31/2015 20:20|     Townsend at 7th|            65|8/31/2015 20:31|Harry Bridges Pla...|          50|   270|     Subscriber|   94945|\n",
            "| 913379|     803|8/31/2015 20:15|     Spear at Folsom|            49|8/31/2015 20:28|     Townsend at 7th|          65|   607|     Subscriber|   94107|\n",
            "| 913371|     663|8/31/2015 20:10|     Townsend at 7th|            65|8/31/2015 20:21|     Spear at Folsom|          49|   405|     Subscriber|   94103|\n",
            "| 913361|     236|8/31/2015 20:05|San Francisco Cal...|            69|8/31/2015 20:09|     Townsend at 7th|          65|   270|     Subscriber|   94107|\n",
            "| 913343|     426|8/31/2015 19:51|       5th at Howard|            57|8/31/2015 19:58|     Townsend at 7th|          65|   457|     Subscriber|   94107|\n",
            "| 913316|     300|8/31/2015 19:34|San Francisco Cal...|            69|8/31/2015 19:39|     Townsend at 7th|          65|   368|     Subscriber|   94107|\n",
            "| 913296|     765|8/31/2015 19:20|       Howard at 2nd|            63|8/31/2015 19:33|     Townsend at 7th|          65|   564|     Subscriber|   94116|\n",
            "+-------+--------+---------------+--------------------+--------------+---------------+--------------------+------------+------+---------------+--------+\n",
            "\n",
            "+----------+--------------------+---------+-----------+---------+-------------+------------+\n",
            "|station_id|                  id|      lat|       long|dockcount|     landmark|installation|\n",
            "+----------+--------------------+---------+-----------+---------+-------------+------------+\n",
            "|        51|Embarcadero at Fo...|37.791464|-122.391034|       19|San Francisco|   8/20/2013|\n",
            "|        58|San Francisco Cit...| 37.77865|-122.418235|       19|San Francisco|   8/21/2013|\n",
            "|        60|Embarcadero at Sa...| 37.80477|-122.403234|       15|San Francisco|   8/21/2013|\n",
            "|        65|     Townsend at 7th|37.771058|-122.402717|       15|San Francisco|   8/22/2013|\n",
            "|        63|       Howard at 2nd|37.786978|-122.398108|       19|San Francisco|   8/22/2013|\n",
            "|        33|Rengstorff Avenue...|37.400241|-122.099076|       15|Mountain View|   8/16/2013|\n",
            "|        25|Stanford in Redwo...| 37.48537|-122.203288|       15| Redwood City|   8/12/2013|\n",
            "|        71|Powell at Post (U...|37.788446|-122.408499|       19|San Francisco|   8/23/2013|\n",
            "|        77|   Market at Sansome|37.789625|-122.400811|       27|San Francisco|   8/25/2013|\n",
            "|        84|         Ryland Park|37.342725|-121.895617|       15|     San Jose|    4/9/2014|\n",
            "|        72|Civic Center BART...|37.781039|-122.411748|       23|San Francisco|   8/23/2013|\n",
            "|        12|SJSU 4th at San C...|37.332808|-121.883891|       19|     San Jose|    8/7/2013|\n",
            "|        39|  Powell Street BART|37.783871|-122.408433|       19|San Francisco|   8/25/2013|\n",
            "|        16|SJSU - San Salvad...|37.333955|-121.877349|       15|     San Jose|    8/7/2013|\n",
            "|        62|       2nd at Folsom|37.785299|-122.396236|       19|San Francisco|   8/22/2013|\n",
            "|        36|California Ave Ca...|37.429082|-122.142805|       15|    Palo Alto|   8/14/2013|\n",
            "|        74|   Steuart at Market|37.794139|-122.394434|       23|San Francisco|   8/25/2013|\n",
            "|        80|Santa Clara Count...|37.352601|-121.905733|       15|     San Jose|  12/31/2013|\n",
            "|        47|     Post at Kearney|37.788975|-122.403452|       19|San Francisco|   8/19/2013|\n",
            "|        69|San Francisco Cal...|  37.7766| -122.39547|       23|San Francisco|   8/23/2013|\n",
            "+----------+--------------------+---------+-----------+---------+-------------+------------+\n",
            "only showing top 20 rows\n",
            "\n"
          ]
        }
      ]
    },
    {
      "cell_type": "code",
      "source": [
        "# 11- Retourner tous les chemins qui forment un motif en \"triangle\" entre trois stations.\n",
        "\n",
        "motifs = stationGraph.find(\"(a)-[ab]->(b); (b)-[bc]->(c); (c)-[ca]->(a)\")\n",
        "motifs.show(1000, False)"
      ],
      "metadata": {
        "colab": {
          "base_uri": "https://localhost:8080/"
        },
        "id": "v0CTCguq5Jvs",
        "outputId": "609d03aa-b7e2-4fec-a516-33ea549e71bd"
      },
      "execution_count": null,
      "outputs": [
        {
          "output_type": "stream",
          "name": "stdout",
          "text": [
            "+------------------------------------------------------------------------------------------------+-------------------------------------------------------------------------------------------------------------------------------------------+------------------------------------------------------------------------------------------------+-------------------------------------------------------------------------------------------------------------------------------------------+------------------------------------------------------------------------------------------------+-------------------------------------------------------------------------------------------------------------------------------------------+\n",
            "|a                                                                                               |ab                                                                                                                                         |b                                                                                               |bc                                                                                                                                         |c                                                                                               |ca                                                                                                                                         |\n",
            "+------------------------------------------------------------------------------------------------+-------------------------------------------------------------------------------------------------------------------------------------------+------------------------------------------------------------------------------------------------+-------------------------------------------------------------------------------------------------------------------------------------------+------------------------------------------------------------------------------------------------+-------------------------------------------------------------------------------------------------------------------------------------------+\n",
            "|{60, Embarcadero at Sansome, 37.80477, -122.403234, 15, San Francisco, 8/21/2013}               |{913443, 691, 8/31/2015 21:49, Embarcadero at Sansome, 60, 8/31/2015 22:01, Market at Sansome, 77, 434, Subscriber, 94109}                 |{77, Market at Sansome, 37.789625, -122.400811, 27, San Francisco, 8/25/2013}                   |{913403, 497, 8/31/2015 20:37, Market at Sansome, 77, 8/31/2015 20:45, 2nd at Townsend, 61, 359, Subscriber, 94105}                        |{61, 2nd at Townsend, 37.780526, -122.390288, 27, San Francisco, 8/22/2013}                     |{913383, 1435, 8/31/2015 20:20, 2nd at Townsend, 61, 8/31/2015 20:44, Embarcadero at Sansome, 60, 604, Customer, 98103}                    |\n",
            "|{60, Embarcadero at Sansome, 37.80477, -122.403234, 15, San Francisco, 8/21/2013}               |{913450, 255, 8/31/2015 22:16, Embarcadero at Sansome, 60, 8/31/2015 22:20, Steuart at Market, 74, 470, Subscriber, 94111}                 |{74, Steuart at Market, 37.794139, -122.394434, 23, San Francisco, 8/25/2013}                   |{913315, 518, 8/31/2015 19:33, Steuart at Market, 74, 8/31/2015 19:42, 2nd at Townsend, 61, 463, Subscriber, 94107}                        |{61, 2nd at Townsend, 37.780526, -122.390288, 27, San Francisco, 8/22/2013}                     |{913383, 1435, 8/31/2015 20:20, 2nd at Townsend, 61, 8/31/2015 20:44, Embarcadero at Sansome, 60, 604, Customer, 98103}                    |\n",
            "|{65, Townsend at 7th, 37.771058, -122.402717, 15, San Francisco, 8/22/2013}                     |{913371, 663, 8/31/2015 20:10, Townsend at 7th, 65, 8/31/2015 20:21, Spear at Folsom, 49, 405, Subscriber, 94103}                          |{49, Spear at Folsom, 37.790302, -122.390637, 19, San Francisco, 8/20/2013}                     |{913432, 703, 8/31/2015 21:16, Spear at Folsom, 49, 8/31/2015 21:28, San Francisco Caltrain 2 (330 Townsend), 69, 426, Subscriber, 95032}  |{69, San Francisco Caltrain 2 (330 Townsend), 37.7766, -122.39547, 23, San Francisco, 8/23/2013}|{913316, 300, 8/31/2015 19:34, San Francisco Caltrain 2 (330 Townsend), 69, 8/31/2015 19:39, Townsend at 7th, 65, 368, Subscriber, 94107}  |\n",
            "|{65, Townsend at 7th, 37.771058, -122.402717, 15, San Francisco, 8/22/2013}                     |{913371, 663, 8/31/2015 20:10, Townsend at 7th, 65, 8/31/2015 20:21, Spear at Folsom, 49, 405, Subscriber, 94103}                          |{49, Spear at Folsom, 37.790302, -122.390637, 19, San Francisco, 8/20/2013}                     |{913432, 703, 8/31/2015 21:16, Spear at Folsom, 49, 8/31/2015 21:28, San Francisco Caltrain 2 (330 Townsend), 69, 426, Subscriber, 95032}  |{69, San Francisco Caltrain 2 (330 Townsend), 37.7766, -122.39547, 23, San Francisco, 8/23/2013}|{913361, 236, 8/31/2015 20:05, San Francisco Caltrain 2 (330 Townsend), 69, 8/31/2015 20:09, Townsend at 7th, 65, 270, Subscriber, 94107}  |\n",
            "|{65, Townsend at 7th, 37.771058, -122.402717, 15, San Francisco, 8/22/2013}                     |{913371, 663, 8/31/2015 20:10, Townsend at 7th, 65, 8/31/2015 20:21, Spear at Folsom, 49, 405, Subscriber, 94103}                          |{49, Spear at Folsom, 37.790302, -122.390637, 19, San Francisco, 8/20/2013}                     |{913432, 703, 8/31/2015 21:16, Spear at Folsom, 49, 8/31/2015 21:28, San Francisco Caltrain 2 (330 Townsend), 69, 426, Subscriber, 95032}  |{69, San Francisco Caltrain 2 (330 Townsend), 37.7766, -122.39547, 23, San Francisco, 8/23/2013}|{913404, 273, 8/31/2015 20:39, San Francisco Caltrain 2 (330 Townsend), 69, 8/31/2015 20:44, Townsend at 7th, 65, 287, Subscriber, 94107}  |\n",
            "|{65, Townsend at 7th, 37.771058, -122.402717, 15, San Francisco, 8/22/2013}                     |{913371, 663, 8/31/2015 20:10, Townsend at 7th, 65, 8/31/2015 20:21, Spear at Folsom, 49, 405, Subscriber, 94103}                          |{49, Spear at Folsom, 37.790302, -122.390637, 19, San Francisco, 8/20/2013}                     |{913432, 703, 8/31/2015 21:16, Spear at Folsom, 49, 8/31/2015 21:28, San Francisco Caltrain 2 (330 Townsend), 69, 426, Subscriber, 95032}  |{69, San Francisco Caltrain 2 (330 Townsend), 37.7766, -122.39547, 23, San Francisco, 8/23/2013}|{913434, 283, 8/31/2015 21:19, San Francisco Caltrain 2 (330 Townsend), 69, 8/31/2015 21:24, Townsend at 7th, 65, 521, Subscriber, 94107}  |\n",
            "|{63, Howard at 2nd, 37.786978, -122.398108, 19, San Francisco, 8/22/2013}                       |{913311, 144, 8/31/2015 19:31, Howard at 2nd, 63, 8/31/2015 19:33, Market at Sansome, 77, 282, Subscriber, 94105}                          |{77, Market at Sansome, 37.789625, -122.400811, 27, San Francisco, 8/25/2013}                   |{913403, 497, 8/31/2015 20:37, Market at Sansome, 77, 8/31/2015 20:45, 2nd at Townsend, 61, 359, Subscriber, 94105}                        |{61, 2nd at Townsend, 37.780526, -122.390288, 27, San Francisco, 8/22/2013}                     |{913309, 344, 8/31/2015 19:30, 2nd at Townsend, 61, 8/31/2015 19:36, Howard at 2nd, 63, 501, Subscriber, 94965}                            |\n",
            "|{63, Howard at 2nd, 37.786978, -122.398108, 19, San Francisco, 8/22/2013}                       |{913351, 290, 8/31/2015 20:01, Howard at 2nd, 63, 8/31/2015 20:06, Market at 4th, 76, 401, Subscriber, 94107}                              |{76, Market at 4th, 37.786305, -122.404966, 19, San Francisco, 8/25/2013}                       |{913320, 792, 8/31/2015 19:39, Market at 4th, 76, 8/31/2015 19:53, 2nd at Townsend, 61, 437, Subscriber, 94107}                            |{61, 2nd at Townsend, 37.780526, -122.390288, 27, San Francisco, 8/22/2013}                     |{913309, 344, 8/31/2015 19:30, 2nd at Townsend, 61, 8/31/2015 19:36, Howard at 2nd, 63, 501, Subscriber, 94965}                            |\n",
            "|{63, Howard at 2nd, 37.786978, -122.398108, 19, San Francisco, 8/22/2013}                       |{913363, 489, 8/31/2015 20:06, Howard at 2nd, 63, 8/31/2015 20:14, San Francisco Caltrain 2 (330 Townsend), 69, 465, Subscriber, 94070}    |{69, San Francisco Caltrain 2 (330 Townsend), 37.7766, -122.39547, 23, San Francisco, 8/23/2013}|{913308, 185, 8/31/2015 19:30, San Francisco Caltrain 2 (330 Townsend), 69, 8/31/2015 19:33, 2nd at Townsend, 61, 541, Subscriber, 94158}  |{61, 2nd at Townsend, 37.780526, -122.390288, 27, San Francisco, 8/22/2013}                     |{913309, 344, 8/31/2015 19:30, 2nd at Townsend, 61, 8/31/2015 19:36, Howard at 2nd, 63, 501, Subscriber, 94965}                            |\n",
            "|{63, Howard at 2nd, 37.786978, -122.398108, 19, San Francisco, 8/22/2013}                       |{913363, 489, 8/31/2015 20:06, Howard at 2nd, 63, 8/31/2015 20:14, San Francisco Caltrain 2 (330 Townsend), 69, 465, Subscriber, 94070}    |{69, San Francisco Caltrain 2 (330 Townsend), 37.7766, -122.39547, 23, San Francisco, 8/23/2013}|{913324, 375, 8/31/2015 19:41, San Francisco Caltrain 2 (330 Townsend), 69, 8/31/2015 19:47, 2nd at South Park, 64, 558, Subscriber, 94105}|{64, 2nd at South Park, 37.782259, -122.392738, 15, San Francisco, 8/22/2013}                   |{913294, 213, 8/31/2015 19:19, 2nd at South Park, 64, 8/31/2015 19:23, Howard at 2nd, 63, 193, Subscriber, 94107}                          |\n",
            "|{63, Howard at 2nd, 37.786978, -122.398108, 19, San Francisco, 8/22/2013}                       |{913363, 489, 8/31/2015 20:06, Howard at 2nd, 63, 8/31/2015 20:14, San Francisco Caltrain 2 (330 Townsend), 69, 465, Subscriber, 94070}    |{69, San Francisco Caltrain 2 (330 Townsend), 37.7766, -122.39547, 23, San Francisco, 8/23/2013}|{913337, 384, 8/31/2015 19:47, San Francisco Caltrain 2 (330 Townsend), 69, 8/31/2015 19:54, 2nd at South Park, 64, 277, Subscriber, 94107}|{64, 2nd at South Park, 37.782259, -122.392738, 15, San Francisco, 8/22/2013}                   |{913294, 213, 8/31/2015 19:19, 2nd at South Park, 64, 8/31/2015 19:23, Howard at 2nd, 63, 193, Subscriber, 94107}                          |\n",
            "|{77, Market at Sansome, 37.789625, -122.400811, 27, San Francisco, 8/25/2013}                   |{913403, 497, 8/31/2015 20:37, Market at Sansome, 77, 8/31/2015 20:45, 2nd at Townsend, 61, 359, Subscriber, 94105}                        |{61, 2nd at Townsend, 37.780526, -122.390288, 27, San Francisco, 8/22/2013}                     |{913309, 344, 8/31/2015 19:30, 2nd at Townsend, 61, 8/31/2015 19:36, Howard at 2nd, 63, 501, Subscriber, 94965}                            |{63, Howard at 2nd, 37.786978, -122.398108, 19, San Francisco, 8/22/2013}                       |{913311, 144, 8/31/2015 19:31, Howard at 2nd, 63, 8/31/2015 19:33, Market at Sansome, 77, 282, Subscriber, 94105}                          |\n",
            "|{77, Market at Sansome, 37.789625, -122.400811, 27, San Francisco, 8/25/2013}                   |{913403, 497, 8/31/2015 20:37, Market at Sansome, 77, 8/31/2015 20:45, 2nd at Townsend, 61, 359, Subscriber, 94105}                        |{61, 2nd at Townsend, 37.780526, -122.390288, 27, San Francisco, 8/22/2013}                     |{913383, 1435, 8/31/2015 20:20, 2nd at Townsend, 61, 8/31/2015 20:44, Embarcadero at Sansome, 60, 604, Customer, 98103}                    |{60, Embarcadero at Sansome, 37.80477, -122.403234, 15, San Francisco, 8/21/2013}               |{913443, 691, 8/31/2015 21:49, Embarcadero at Sansome, 60, 8/31/2015 22:01, Market at Sansome, 77, 434, Subscriber, 94109}                 |\n",
            "|{74, Steuart at Market, 37.794139, -122.394434, 23, San Francisco, 8/25/2013}                   |{913315, 518, 8/31/2015 19:33, Steuart at Market, 74, 8/31/2015 19:42, 2nd at Townsend, 61, 463, Subscriber, 94107}                        |{61, 2nd at Townsend, 37.780526, -122.390288, 27, San Francisco, 8/22/2013}                     |{913383, 1435, 8/31/2015 20:20, 2nd at Townsend, 61, 8/31/2015 20:44, Embarcadero at Sansome, 60, 604, Customer, 98103}                    |{60, Embarcadero at Sansome, 37.80477, -122.403234, 15, San Francisco, 8/21/2013}               |{913450, 255, 8/31/2015 22:16, Embarcadero at Sansome, 60, 8/31/2015 22:20, Steuart at Market, 74, 470, Subscriber, 94111}                 |\n",
            "|{69, San Francisco Caltrain 2 (330 Townsend), 37.7766, -122.39547, 23, San Francisco, 8/23/2013}|{913308, 185, 8/31/2015 19:30, San Francisco Caltrain 2 (330 Townsend), 69, 8/31/2015 19:33, 2nd at Townsend, 61, 541, Subscriber, 94158}  |{61, 2nd at Townsend, 37.780526, -122.390288, 27, San Francisco, 8/22/2013}                     |{913297, 501, 8/31/2015 19:21, 2nd at Townsend, 61, 8/31/2015 19:29, Spear at Folsom, 49, 607, Subscriber, 94107}                          |{49, Spear at Folsom, 37.790302, -122.390637, 19, San Francisco, 8/20/2013}                     |{913432, 703, 8/31/2015 21:16, Spear at Folsom, 49, 8/31/2015 21:28, San Francisco Caltrain 2 (330 Townsend), 69, 426, Subscriber, 95032}  |\n",
            "|{69, San Francisco Caltrain 2 (330 Townsend), 37.7766, -122.39547, 23, San Francisco, 8/23/2013}|{913308, 185, 8/31/2015 19:30, San Francisco Caltrain 2 (330 Townsend), 69, 8/31/2015 19:33, 2nd at Townsend, 61, 541, Subscriber, 94158}  |{61, 2nd at Townsend, 37.780526, -122.390288, 27, San Francisco, 8/22/2013}                     |{913309, 344, 8/31/2015 19:30, 2nd at Townsend, 61, 8/31/2015 19:36, Howard at 2nd, 63, 501, Subscriber, 94965}                            |{63, Howard at 2nd, 37.786978, -122.398108, 19, San Francisco, 8/22/2013}                       |{913363, 489, 8/31/2015 20:06, Howard at 2nd, 63, 8/31/2015 20:14, San Francisco Caltrain 2 (330 Townsend), 69, 465, Subscriber, 94070}    |\n",
            "|{69, San Francisco Caltrain 2 (330 Townsend), 37.7766, -122.39547, 23, San Francisco, 8/23/2013}|{913316, 300, 8/31/2015 19:34, San Francisco Caltrain 2 (330 Townsend), 69, 8/31/2015 19:39, Townsend at 7th, 65, 368, Subscriber, 94107}  |{65, Townsend at 7th, 37.771058, -122.402717, 15, San Francisco, 8/22/2013}                     |{913371, 663, 8/31/2015 20:10, Townsend at 7th, 65, 8/31/2015 20:21, Spear at Folsom, 49, 405, Subscriber, 94103}                          |{49, Spear at Folsom, 37.790302, -122.390637, 19, San Francisco, 8/20/2013}                     |{913432, 703, 8/31/2015 21:16, Spear at Folsom, 49, 8/31/2015 21:28, San Francisco Caltrain 2 (330 Townsend), 69, 426, Subscriber, 95032}  |\n",
            "|{69, San Francisco Caltrain 2 (330 Townsend), 37.7766, -122.39547, 23, San Francisco, 8/23/2013}|{913324, 375, 8/31/2015 19:41, San Francisco Caltrain 2 (330 Townsend), 69, 8/31/2015 19:47, 2nd at South Park, 64, 558, Subscriber, 94105}|{64, 2nd at South Park, 37.782259, -122.392738, 15, San Francisco, 8/22/2013}                   |{913294, 213, 8/31/2015 19:19, 2nd at South Park, 64, 8/31/2015 19:23, Howard at 2nd, 63, 193, Subscriber, 94107}                          |{63, Howard at 2nd, 37.786978, -122.398108, 19, San Francisco, 8/22/2013}                       |{913363, 489, 8/31/2015 20:06, Howard at 2nd, 63, 8/31/2015 20:14, San Francisco Caltrain 2 (330 Townsend), 69, 465, Subscriber, 94070}    |\n",
            "|{69, San Francisco Caltrain 2 (330 Townsend), 37.7766, -122.39547, 23, San Francisco, 8/23/2013}|{913324, 375, 8/31/2015 19:41, San Francisco Caltrain 2 (330 Townsend), 69, 8/31/2015 19:47, 2nd at South Park, 64, 558, Subscriber, 94105}|{64, 2nd at South Park, 37.782259, -122.392738, 15, San Francisco, 8/22/2013}                   |{913303, 296, 8/31/2015 19:27, 2nd at South Park, 64, 8/31/2015 19:32, Spear at Folsom, 49, 672, Subscriber, 94105}                        |{49, Spear at Folsom, 37.790302, -122.390637, 19, San Francisco, 8/20/2013}                     |{913432, 703, 8/31/2015 21:16, Spear at Folsom, 49, 8/31/2015 21:28, San Francisco Caltrain 2 (330 Townsend), 69, 426, Subscriber, 95032}  |\n",
            "|{69, San Francisco Caltrain 2 (330 Townsend), 37.7766, -122.39547, 23, San Francisco, 8/23/2013}|{913337, 384, 8/31/2015 19:47, San Francisco Caltrain 2 (330 Townsend), 69, 8/31/2015 19:54, 2nd at South Park, 64, 277, Subscriber, 94107}|{64, 2nd at South Park, 37.782259, -122.392738, 15, San Francisco, 8/22/2013}                   |{913294, 213, 8/31/2015 19:19, 2nd at South Park, 64, 8/31/2015 19:23, Howard at 2nd, 63, 193, Subscriber, 94107}                          |{63, Howard at 2nd, 37.786978, -122.398108, 19, San Francisco, 8/22/2013}                       |{913363, 489, 8/31/2015 20:06, Howard at 2nd, 63, 8/31/2015 20:14, San Francisco Caltrain 2 (330 Townsend), 69, 465, Subscriber, 94070}    |\n",
            "|{69, San Francisco Caltrain 2 (330 Townsend), 37.7766, -122.39547, 23, San Francisco, 8/23/2013}|{913337, 384, 8/31/2015 19:47, San Francisco Caltrain 2 (330 Townsend), 69, 8/31/2015 19:54, 2nd at South Park, 64, 277, Subscriber, 94107}|{64, 2nd at South Park, 37.782259, -122.392738, 15, San Francisco, 8/22/2013}                   |{913303, 296, 8/31/2015 19:27, 2nd at South Park, 64, 8/31/2015 19:32, Spear at Folsom, 49, 672, Subscriber, 94105}                        |{49, Spear at Folsom, 37.790302, -122.390637, 19, San Francisco, 8/20/2013}                     |{913432, 703, 8/31/2015 21:16, Spear at Folsom, 49, 8/31/2015 21:28, San Francisco Caltrain 2 (330 Townsend), 69, 426, Subscriber, 95032}  |\n",
            "|{69, San Francisco Caltrain 2 (330 Townsend), 37.7766, -122.39547, 23, San Francisco, 8/23/2013}|{913361, 236, 8/31/2015 20:05, San Francisco Caltrain 2 (330 Townsend), 69, 8/31/2015 20:09, Townsend at 7th, 65, 270, Subscriber, 94107}  |{65, Townsend at 7th, 37.771058, -122.402717, 15, San Francisco, 8/22/2013}                     |{913371, 663, 8/31/2015 20:10, Townsend at 7th, 65, 8/31/2015 20:21, Spear at Folsom, 49, 405, Subscriber, 94103}                          |{49, Spear at Folsom, 37.790302, -122.390637, 19, San Francisco, 8/20/2013}                     |{913432, 703, 8/31/2015 21:16, Spear at Folsom, 49, 8/31/2015 21:28, San Francisco Caltrain 2 (330 Townsend), 69, 426, Subscriber, 95032}  |\n",
            "|{69, San Francisco Caltrain 2 (330 Townsend), 37.7766, -122.39547, 23, San Francisco, 8/23/2013}|{913404, 273, 8/31/2015 20:39, San Francisco Caltrain 2 (330 Townsend), 69, 8/31/2015 20:44, Townsend at 7th, 65, 287, Subscriber, 94107}  |{65, Townsend at 7th, 37.771058, -122.402717, 15, San Francisco, 8/22/2013}                     |{913371, 663, 8/31/2015 20:10, Townsend at 7th, 65, 8/31/2015 20:21, Spear at Folsom, 49, 405, Subscriber, 94103}                          |{49, Spear at Folsom, 37.790302, -122.390637, 19, San Francisco, 8/20/2013}                     |{913432, 703, 8/31/2015 21:16, Spear at Folsom, 49, 8/31/2015 21:28, San Francisco Caltrain 2 (330 Townsend), 69, 426, Subscriber, 95032}  |\n",
            "|{69, San Francisco Caltrain 2 (330 Townsend), 37.7766, -122.39547, 23, San Francisco, 8/23/2013}|{913434, 283, 8/31/2015 21:19, San Francisco Caltrain 2 (330 Townsend), 69, 8/31/2015 21:24, Townsend at 7th, 65, 521, Subscriber, 94107}  |{65, Townsend at 7th, 37.771058, -122.402717, 15, San Francisco, 8/22/2013}                     |{913371, 663, 8/31/2015 20:10, Townsend at 7th, 65, 8/31/2015 20:21, Spear at Folsom, 49, 405, Subscriber, 94103}                          |{49, Spear at Folsom, 37.790302, -122.390637, 19, San Francisco, 8/20/2013}                     |{913432, 703, 8/31/2015 21:16, Spear at Folsom, 49, 8/31/2015 21:28, San Francisco Caltrain 2 (330 Townsend), 69, 426, Subscriber, 95032}  |\n",
            "|{49, Spear at Folsom, 37.790302, -122.390637, 19, San Francisco, 8/20/2013}                     |{913432, 703, 8/31/2015 21:16, Spear at Folsom, 49, 8/31/2015 21:28, San Francisco Caltrain 2 (330 Townsend), 69, 426, Subscriber, 95032}  |{69, San Francisco Caltrain 2 (330 Townsend), 37.7766, -122.39547, 23, San Francisco, 8/23/2013}|{913308, 185, 8/31/2015 19:30, San Francisco Caltrain 2 (330 Townsend), 69, 8/31/2015 19:33, 2nd at Townsend, 61, 541, Subscriber, 94158}  |{61, 2nd at Townsend, 37.780526, -122.390288, 27, San Francisco, 8/22/2013}                     |{913297, 501, 8/31/2015 19:21, 2nd at Townsend, 61, 8/31/2015 19:29, Spear at Folsom, 49, 607, Subscriber, 94107}                          |\n",
            "|{49, Spear at Folsom, 37.790302, -122.390637, 19, San Francisco, 8/20/2013}                     |{913432, 703, 8/31/2015 21:16, Spear at Folsom, 49, 8/31/2015 21:28, San Francisco Caltrain 2 (330 Townsend), 69, 426, Subscriber, 95032}  |{69, San Francisco Caltrain 2 (330 Townsend), 37.7766, -122.39547, 23, San Francisco, 8/23/2013}|{913316, 300, 8/31/2015 19:34, San Francisco Caltrain 2 (330 Townsend), 69, 8/31/2015 19:39, Townsend at 7th, 65, 368, Subscriber, 94107}  |{65, Townsend at 7th, 37.771058, -122.402717, 15, San Francisco, 8/22/2013}                     |{913371, 663, 8/31/2015 20:10, Townsend at 7th, 65, 8/31/2015 20:21, Spear at Folsom, 49, 405, Subscriber, 94103}                          |\n",
            "|{49, Spear at Folsom, 37.790302, -122.390637, 19, San Francisco, 8/20/2013}                     |{913432, 703, 8/31/2015 21:16, Spear at Folsom, 49, 8/31/2015 21:28, San Francisco Caltrain 2 (330 Townsend), 69, 426, Subscriber, 95032}  |{69, San Francisco Caltrain 2 (330 Townsend), 37.7766, -122.39547, 23, San Francisco, 8/23/2013}|{913324, 375, 8/31/2015 19:41, San Francisco Caltrain 2 (330 Townsend), 69, 8/31/2015 19:47, 2nd at South Park, 64, 558, Subscriber, 94105}|{64, 2nd at South Park, 37.782259, -122.392738, 15, San Francisco, 8/22/2013}                   |{913303, 296, 8/31/2015 19:27, 2nd at South Park, 64, 8/31/2015 19:32, Spear at Folsom, 49, 672, Subscriber, 94105}                        |\n",
            "|{49, Spear at Folsom, 37.790302, -122.390637, 19, San Francisco, 8/20/2013}                     |{913432, 703, 8/31/2015 21:16, Spear at Folsom, 49, 8/31/2015 21:28, San Francisco Caltrain 2 (330 Townsend), 69, 426, Subscriber, 95032}  |{69, San Francisco Caltrain 2 (330 Townsend), 37.7766, -122.39547, 23, San Francisco, 8/23/2013}|{913337, 384, 8/31/2015 19:47, San Francisco Caltrain 2 (330 Townsend), 69, 8/31/2015 19:54, 2nd at South Park, 64, 277, Subscriber, 94107}|{64, 2nd at South Park, 37.782259, -122.392738, 15, San Francisco, 8/22/2013}                   |{913303, 296, 8/31/2015 19:27, 2nd at South Park, 64, 8/31/2015 19:32, Spear at Folsom, 49, 672, Subscriber, 94105}                        |\n",
            "|{49, Spear at Folsom, 37.790302, -122.390637, 19, San Francisco, 8/20/2013}                     |{913432, 703, 8/31/2015 21:16, Spear at Folsom, 49, 8/31/2015 21:28, San Francisco Caltrain 2 (330 Townsend), 69, 426, Subscriber, 95032}  |{69, San Francisco Caltrain 2 (330 Townsend), 37.7766, -122.39547, 23, San Francisco, 8/23/2013}|{913361, 236, 8/31/2015 20:05, San Francisco Caltrain 2 (330 Townsend), 69, 8/31/2015 20:09, Townsend at 7th, 65, 270, Subscriber, 94107}  |{65, Townsend at 7th, 37.771058, -122.402717, 15, San Francisco, 8/22/2013}                     |{913371, 663, 8/31/2015 20:10, Townsend at 7th, 65, 8/31/2015 20:21, Spear at Folsom, 49, 405, Subscriber, 94103}                          |\n",
            "|{49, Spear at Folsom, 37.790302, -122.390637, 19, San Francisco, 8/20/2013}                     |{913432, 703, 8/31/2015 21:16, Spear at Folsom, 49, 8/31/2015 21:28, San Francisco Caltrain 2 (330 Townsend), 69, 426, Subscriber, 95032}  |{69, San Francisco Caltrain 2 (330 Townsend), 37.7766, -122.39547, 23, San Francisco, 8/23/2013}|{913404, 273, 8/31/2015 20:39, San Francisco Caltrain 2 (330 Townsend), 69, 8/31/2015 20:44, Townsend at 7th, 65, 287, Subscriber, 94107}  |{65, Townsend at 7th, 37.771058, -122.402717, 15, San Francisco, 8/22/2013}                     |{913371, 663, 8/31/2015 20:10, Townsend at 7th, 65, 8/31/2015 20:21, Spear at Folsom, 49, 405, Subscriber, 94103}                          |\n",
            "|{49, Spear at Folsom, 37.790302, -122.390637, 19, San Francisco, 8/20/2013}                     |{913432, 703, 8/31/2015 21:16, Spear at Folsom, 49, 8/31/2015 21:28, San Francisco Caltrain 2 (330 Townsend), 69, 426, Subscriber, 95032}  |{69, San Francisco Caltrain 2 (330 Townsend), 37.7766, -122.39547, 23, San Francisco, 8/23/2013}|{913434, 283, 8/31/2015 21:19, San Francisco Caltrain 2 (330 Townsend), 69, 8/31/2015 21:24, Townsend at 7th, 65, 521, Subscriber, 94107}  |{65, Townsend at 7th, 37.771058, -122.402717, 15, San Francisco, 8/22/2013}                     |{913371, 663, 8/31/2015 20:10, Townsend at 7th, 65, 8/31/2015 20:21, Spear at Folsom, 49, 405, Subscriber, 94103}                          |\n",
            "|{61, 2nd at Townsend, 37.780526, -122.390288, 27, San Francisco, 8/22/2013}                     |{913297, 501, 8/31/2015 19:21, 2nd at Townsend, 61, 8/31/2015 19:29, Spear at Folsom, 49, 607, Subscriber, 94107}                          |{49, Spear at Folsom, 37.790302, -122.390637, 19, San Francisco, 8/20/2013}                     |{913432, 703, 8/31/2015 21:16, Spear at Folsom, 49, 8/31/2015 21:28, San Francisco Caltrain 2 (330 Townsend), 69, 426, Subscriber, 95032}  |{69, San Francisco Caltrain 2 (330 Townsend), 37.7766, -122.39547, 23, San Francisco, 8/23/2013}|{913308, 185, 8/31/2015 19:30, San Francisco Caltrain 2 (330 Townsend), 69, 8/31/2015 19:33, 2nd at Townsend, 61, 541, Subscriber, 94158}  |\n",
            "|{61, 2nd at Townsend, 37.780526, -122.390288, 27, San Francisco, 8/22/2013}                     |{913309, 344, 8/31/2015 19:30, 2nd at Townsend, 61, 8/31/2015 19:36, Howard at 2nd, 63, 501, Subscriber, 94965}                            |{63, Howard at 2nd, 37.786978, -122.398108, 19, San Francisco, 8/22/2013}                       |{913311, 144, 8/31/2015 19:31, Howard at 2nd, 63, 8/31/2015 19:33, Market at Sansome, 77, 282, Subscriber, 94105}                          |{77, Market at Sansome, 37.789625, -122.400811, 27, San Francisco, 8/25/2013}                   |{913403, 497, 8/31/2015 20:37, Market at Sansome, 77, 8/31/2015 20:45, 2nd at Townsend, 61, 359, Subscriber, 94105}                        |\n",
            "|{61, 2nd at Townsend, 37.780526, -122.390288, 27, San Francisco, 8/22/2013}                     |{913309, 344, 8/31/2015 19:30, 2nd at Townsend, 61, 8/31/2015 19:36, Howard at 2nd, 63, 501, Subscriber, 94965}                            |{63, Howard at 2nd, 37.786978, -122.398108, 19, San Francisco, 8/22/2013}                       |{913351, 290, 8/31/2015 20:01, Howard at 2nd, 63, 8/31/2015 20:06, Market at 4th, 76, 401, Subscriber, 94107}                              |{76, Market at 4th, 37.786305, -122.404966, 19, San Francisco, 8/25/2013}                       |{913320, 792, 8/31/2015 19:39, Market at 4th, 76, 8/31/2015 19:53, 2nd at Townsend, 61, 437, Subscriber, 94107}                            |\n",
            "|{61, 2nd at Townsend, 37.780526, -122.390288, 27, San Francisco, 8/22/2013}                     |{913309, 344, 8/31/2015 19:30, 2nd at Townsend, 61, 8/31/2015 19:36, Howard at 2nd, 63, 501, Subscriber, 94965}                            |{63, Howard at 2nd, 37.786978, -122.398108, 19, San Francisco, 8/22/2013}                       |{913363, 489, 8/31/2015 20:06, Howard at 2nd, 63, 8/31/2015 20:14, San Francisco Caltrain 2 (330 Townsend), 69, 465, Subscriber, 94070}    |{69, San Francisco Caltrain 2 (330 Townsend), 37.7766, -122.39547, 23, San Francisco, 8/23/2013}|{913308, 185, 8/31/2015 19:30, San Francisco Caltrain 2 (330 Townsend), 69, 8/31/2015 19:33, 2nd at Townsend, 61, 541, Subscriber, 94158}  |\n",
            "|{61, 2nd at Townsend, 37.780526, -122.390288, 27, San Francisco, 8/22/2013}                     |{913383, 1435, 8/31/2015 20:20, 2nd at Townsend, 61, 8/31/2015 20:44, Embarcadero at Sansome, 60, 604, Customer, 98103}                    |{60, Embarcadero at Sansome, 37.80477, -122.403234, 15, San Francisco, 8/21/2013}               |{913443, 691, 8/31/2015 21:49, Embarcadero at Sansome, 60, 8/31/2015 22:01, Market at Sansome, 77, 434, Subscriber, 94109}                 |{77, Market at Sansome, 37.789625, -122.400811, 27, San Francisco, 8/25/2013}                   |{913403, 497, 8/31/2015 20:37, Market at Sansome, 77, 8/31/2015 20:45, 2nd at Townsend, 61, 359, Subscriber, 94105}                        |\n",
            "|{61, 2nd at Townsend, 37.780526, -122.390288, 27, San Francisco, 8/22/2013}                     |{913383, 1435, 8/31/2015 20:20, 2nd at Townsend, 61, 8/31/2015 20:44, Embarcadero at Sansome, 60, 604, Customer, 98103}                    |{60, Embarcadero at Sansome, 37.80477, -122.403234, 15, San Francisco, 8/21/2013}               |{913450, 255, 8/31/2015 22:16, Embarcadero at Sansome, 60, 8/31/2015 22:20, Steuart at Market, 74, 470, Subscriber, 94111}                 |{74, Steuart at Market, 37.794139, -122.394434, 23, San Francisco, 8/25/2013}                   |{913315, 518, 8/31/2015 19:33, Steuart at Market, 74, 8/31/2015 19:42, 2nd at Townsend, 61, 463, Subscriber, 94107}                        |\n",
            "|{64, 2nd at South Park, 37.782259, -122.392738, 15, San Francisco, 8/22/2013}                   |{913294, 213, 8/31/2015 19:19, 2nd at South Park, 64, 8/31/2015 19:23, Howard at 2nd, 63, 193, Subscriber, 94107}                          |{63, Howard at 2nd, 37.786978, -122.398108, 19, San Francisco, 8/22/2013}                       |{913363, 489, 8/31/2015 20:06, Howard at 2nd, 63, 8/31/2015 20:14, San Francisco Caltrain 2 (330 Townsend), 69, 465, Subscriber, 94070}    |{69, San Francisco Caltrain 2 (330 Townsend), 37.7766, -122.39547, 23, San Francisco, 8/23/2013}|{913324, 375, 8/31/2015 19:41, San Francisco Caltrain 2 (330 Townsend), 69, 8/31/2015 19:47, 2nd at South Park, 64, 558, Subscriber, 94105}|\n",
            "|{64, 2nd at South Park, 37.782259, -122.392738, 15, San Francisco, 8/22/2013}                   |{913294, 213, 8/31/2015 19:19, 2nd at South Park, 64, 8/31/2015 19:23, Howard at 2nd, 63, 193, Subscriber, 94107}                          |{63, Howard at 2nd, 37.786978, -122.398108, 19, San Francisco, 8/22/2013}                       |{913363, 489, 8/31/2015 20:06, Howard at 2nd, 63, 8/31/2015 20:14, San Francisco Caltrain 2 (330 Townsend), 69, 465, Subscriber, 94070}    |{69, San Francisco Caltrain 2 (330 Townsend), 37.7766, -122.39547, 23, San Francisco, 8/23/2013}|{913337, 384, 8/31/2015 19:47, San Francisco Caltrain 2 (330 Townsend), 69, 8/31/2015 19:54, 2nd at South Park, 64, 277, Subscriber, 94107}|\n",
            "|{64, 2nd at South Park, 37.782259, -122.392738, 15, San Francisco, 8/22/2013}                   |{913303, 296, 8/31/2015 19:27, 2nd at South Park, 64, 8/31/2015 19:32, Spear at Folsom, 49, 672, Subscriber, 94105}                        |{49, Spear at Folsom, 37.790302, -122.390637, 19, San Francisco, 8/20/2013}                     |{913432, 703, 8/31/2015 21:16, Spear at Folsom, 49, 8/31/2015 21:28, San Francisco Caltrain 2 (330 Townsend), 69, 426, Subscriber, 95032}  |{69, San Francisco Caltrain 2 (330 Townsend), 37.7766, -122.39547, 23, San Francisco, 8/23/2013}|{913324, 375, 8/31/2015 19:41, San Francisco Caltrain 2 (330 Townsend), 69, 8/31/2015 19:47, 2nd at South Park, 64, 558, Subscriber, 94105}|\n",
            "|{64, 2nd at South Park, 37.782259, -122.392738, 15, San Francisco, 8/22/2013}                   |{913303, 296, 8/31/2015 19:27, 2nd at South Park, 64, 8/31/2015 19:32, Spear at Folsom, 49, 672, Subscriber, 94105}                        |{49, Spear at Folsom, 37.790302, -122.390637, 19, San Francisco, 8/20/2013}                     |{913432, 703, 8/31/2015 21:16, Spear at Folsom, 49, 8/31/2015 21:28, San Francisco Caltrain 2 (330 Townsend), 69, 426, Subscriber, 95032}  |{69, San Francisco Caltrain 2 (330 Townsend), 37.7766, -122.39547, 23, San Francisco, 8/23/2013}|{913337, 384, 8/31/2015 19:47, San Francisco Caltrain 2 (330 Townsend), 69, 8/31/2015 19:54, 2nd at South Park, 64, 277, Subscriber, 94107}|\n",
            "|{76, Market at 4th, 37.786305, -122.404966, 19, San Francisco, 8/25/2013}                       |{913320, 792, 8/31/2015 19:39, Market at 4th, 76, 8/31/2015 19:53, 2nd at Townsend, 61, 437, Subscriber, 94107}                            |{61, 2nd at Townsend, 37.780526, -122.390288, 27, San Francisco, 8/22/2013}                     |{913309, 344, 8/31/2015 19:30, 2nd at Townsend, 61, 8/31/2015 19:36, Howard at 2nd, 63, 501, Subscriber, 94965}                            |{63, Howard at 2nd, 37.786978, -122.398108, 19, San Francisco, 8/22/2013}                       |{913351, 290, 8/31/2015 20:01, Howard at 2nd, 63, 8/31/2015 20:06, Market at 4th, 76, 401, Subscriber, 94107}                              |\n",
            "+------------------------------------------------------------------------------------------------+-------------------------------------------------------------------------------------------------------------------------------------------+------------------------------------------------------------------------------------------------+-------------------------------------------------------------------------------------------------------------------------------------------+------------------------------------------------------------------------------------------------+-------------------------------------------------------------------------------------------------------------------------------------------+\n",
            "\n"
          ]
        }
      ]
    },
    {
      "cell_type": "code",
      "source": [
        "# 12) Retourner tous les chemins qui passent par trois sommets et qui commencent à partir de 'Townsend at 7th'.\n",
        "\n",
        "paths = stationGraph.find(\"(a)-[]->(b); (b)-[]->(c)\")\n",
        "\n",
        "# Filtrage des chemins qui commencent à partir de 'Townsend at 7th'\n",
        "filtered_paths = paths.filter(\"a.id = 'Townsend at 7th'\")\n",
        "\n",
        "# Affichage des résultats\n",
        "filtered_paths.show(truncate=False)"
      ],
      "metadata": {
        "colab": {
          "base_uri": "https://localhost:8080/"
        },
        "id": "j9onBY5u5R2Z",
        "outputId": "202dede9-c95e-45fd-ec87-c562c8e05495"
      },
      "execution_count": null,
      "outputs": [
        {
          "output_type": "stream",
          "name": "stdout",
          "text": [
            "+---------------------------------------------------------------------------+------------------------------------------------------------------------------------------------+---------------------------------------------------------------------------------------------------+\n",
            "|a                                                                          |b                                                                                               |c                                                                                                  |\n",
            "+---------------------------------------------------------------------------+------------------------------------------------------------------------------------------------+---------------------------------------------------------------------------------------------------+\n",
            "|{65, Townsend at 7th, 37.771058, -122.402717, 15, San Francisco, 8/22/2013}|{49, Spear at Folsom, 37.790302, -122.390637, 19, San Francisco, 8/20/2013}                     |{61, 2nd at Townsend, 37.780526, -122.390288, 27, San Francisco, 8/22/2013}                        |\n",
            "|{65, Townsend at 7th, 37.771058, -122.402717, 15, San Francisco, 8/22/2013}|{49, Spear at Folsom, 37.790302, -122.390637, 19, San Francisco, 8/20/2013}                     |{42, Davis at Jackson, 37.79728, -122.398436, 15, San Francisco, 8/19/2013}                        |\n",
            "|{65, Townsend at 7th, 37.771058, -122.402717, 15, San Francisco, 8/22/2013}|{49, Spear at Folsom, 37.790302, -122.390637, 19, San Francisco, 8/20/2013}                     |{65, Townsend at 7th, 37.771058, -122.402717, 15, San Francisco, 8/22/2013}                        |\n",
            "|{65, Townsend at 7th, 37.771058, -122.402717, 15, San Francisco, 8/22/2013}|{49, Spear at Folsom, 37.790302, -122.390637, 19, San Francisco, 8/20/2013}                     |{61, 2nd at Townsend, 37.780526, -122.390288, 27, San Francisco, 8/22/2013}                        |\n",
            "|{65, Townsend at 7th, 37.771058, -122.402717, 15, San Francisco, 8/22/2013}|{49, Spear at Folsom, 37.790302, -122.390637, 19, San Francisco, 8/20/2013}                     |{69, San Francisco Caltrain 2 (330 Townsend), 37.7766, -122.39547, 23, San Francisco, 8/23/2013}   |\n",
            "|{65, Townsend at 7th, 37.771058, -122.402717, 15, San Francisco, 8/22/2013}|{50, Harry Bridges Plaza (Ferry Building), 37.795392, -122.394203, 23, San Francisco, 8/20/2013}|{61, 2nd at Townsend, 37.780526, -122.390288, 27, San Francisco, 8/22/2013}                        |\n",
            "|{65, Townsend at 7th, 37.771058, -122.402717, 15, San Francisco, 8/22/2013}|{50, Harry Bridges Plaza (Ferry Building), 37.795392, -122.394203, 23, San Francisco, 8/20/2013}|{54, Embarcadero at Bryant, 37.787152, -122.388013, 15, San Francisco, 8/20/2013}                  |\n",
            "|{65, Townsend at 7th, 37.771058, -122.402717, 15, San Francisco, 8/22/2013}|{50, Harry Bridges Plaza (Ferry Building), 37.795392, -122.394203, 23, San Francisco, 8/20/2013}|{70, San Francisco Caltrain (Townsend at 4th), 37.776617, -122.39526, 19, San Francisco, 8/23/2013}|\n",
            "+---------------------------------------------------------------------------+------------------------------------------------------------------------------------------------+---------------------------------------------------------------------------------------------------+\n",
            "\n"
          ]
        }
      ]
    }
  ]
}